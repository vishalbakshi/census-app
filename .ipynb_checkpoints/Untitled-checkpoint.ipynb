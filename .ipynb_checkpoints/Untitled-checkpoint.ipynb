{
 "cells": [
  {
   "cell_type": "markdown",
   "id": "6498b981-0939-4ac0-bc96-a860f8cc7ae2",
   "metadata": {},
   "source": [
    "# Understanding and Using American Community Survey Data\n",
    "_What State and Local Government Users Need to Know_"
   ]
  },
  {
   "cell_type": "markdown",
   "id": "3712a857-51aa-456d-820b-7db4f78466bd",
   "metadata": {},
   "source": [
    "#### Case Study #1: Minnesota State Demographic Center Analysis of Earnings in Urban and Rural Areas"
   ]
  },
  {
   "cell_type": "markdown",
   "id": "81893da1-d35d-4fe1-802d-6b33e04cf226",
   "metadata": {},
   "source": [
    "The Standard Error in the case study is 0.599 and is calculated using the following formula:\n",
    "\n",
    "$$SE (50 percent) = DF * \\sqrt{\\frac{95}{5B}*50^2}$$\n",
    "\n",
    "With $DF$ = $1.3$ and $SE(50 percent)$ = $0.599$, solving for $B$ yields:\n",
    "\n",
    "$$0.599 = 1.3\\sqrt{\\frac{95}{5B}*50^2}$$\n",
    "\n",
    "\n",
    "$$B=\\frac{95x50^2}{\\Big(\\frac{0.599}{1.3} \\Big)^2*5} = 223731.26$$\n",
    "\n",
    "However, I'm not sure how to calculate this value of approximately 223731 from the dataset.\n",
    "\n",
    "Futhermore, using the formula provided in the email, $B=\\frac{100-f}{f}$, the value of B would be $\\frac{100-2.5}{2.5}$ = $39$ (unless I've misunderstood the email!)."
   ]
  }
 ],
 "metadata": {
  "kernelspec": {
   "display_name": "Python 3",
   "language": "python",
   "name": "python3"
  },
  "language_info": {
   "codemirror_mode": {
    "name": "ipython",
    "version": 3
   },
   "file_extension": ".py",
   "mimetype": "text/x-python",
   "name": "python",
   "nbconvert_exporter": "python",
   "pygments_lexer": "ipython3",
   "version": "3.8.5"
  }
 },
 "nbformat": 4,
 "nbformat_minor": 5
}
